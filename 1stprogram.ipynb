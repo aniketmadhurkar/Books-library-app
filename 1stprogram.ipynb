{
  "nbformat": 4,
  "nbformat_minor": 0,
  "metadata": {
    "colab": {
      "provenance": [],
      "authorship_tag": "ABX9TyP7kj01PKHBDIddcf6R0ifh",
      "include_colab_link": true
    },
    "kernelspec": {
      "name": "python3",
      "display_name": "Python 3"
    },
    "language_info": {
      "name": "python"
    }
  },
  "cells": [
    {
      "cell_type": "markdown",
      "metadata": {
        "id": "view-in-github",
        "colab_type": "text"
      },
      "source": [
        "<a href=\"https://colab.research.google.com/github/aniketmadhurkar/Books-library-app/blob/main/1stprogram.ipynb\" target=\"_parent\"><img src=\"https://colab.research.google.com/assets/colab-badge.svg\" alt=\"Open In Colab\"/></a>"
      ]
    },
    {
      "cell_type": "code",
      "execution_count": null,
      "metadata": {
        "colab": {
          "base_uri": "https://localhost:8080/"
        },
        "id": "sNFXCaP7bEkY",
        "outputId": "b9e5481a-e7d4-4d69-eadd-d08a3c01c172"
      },
      "outputs": [
        {
          "output_type": "stream",
          "name": "stdout",
          "text": [
            "['aniket', 'madhurkar', 1, 2, 4, 10]\n"
          ]
        },
        {
          "output_type": "execute_result",
          "data": {
            "text/plain": [
              "['madhurkar', 1, 2]"
            ]
          },
          "metadata": {},
          "execution_count": 4
        }
      ],
      "source": [
        "list=[\"aniket\",\"madhurkar\",1,2,4,10]\n",
        "print(list)\n",
        "list[1]\n",
        "list[1:4]"
      ]
    },
    {
      "cell_type": "code",
      "source": [
        "l = ['geeks']\n",
        "l.append('for')\n",
        "l.append('geeks')\n",
        "print(l)"
      ],
      "metadata": {
        "colab": {
          "base_uri": "https://localhost:8080/"
        },
        "id": "P6K0qkK5mMNH",
        "outputId": "db98bab8-a23b-4bd1-fce7-6083774a401f"
      },
      "execution_count": null,
      "outputs": [
        {
          "output_type": "stream",
          "name": "stdout",
          "text": [
            "['geeks', 'for', 'geeks']\n"
          ]
        }
      ]
    },
    {
      "cell_type": "code",
      "source": [
        "list=[\"aniket\",\"madhurkar\",1,2,3,4]\n",
        "list.append(\"gurunath\")\n",
        "print(list)"
      ],
      "metadata": {
        "colab": {
          "base_uri": "https://localhost:8080/"
        },
        "id": "iEQFLEphmgdJ",
        "outputId": "955f424f-9958-45eb-d520-fdb103e98856"
      },
      "execution_count": null,
      "outputs": [
        {
          "output_type": "stream",
          "name": "stdout",
          "text": [
            "['aniket', 'madhurkar', 1, 2, 3, 4, 'gurunath']\n"
          ]
        }
      ]
    },
    {
      "cell_type": "code",
      "source": [
        "list=[\"aniket\",\"madhurkar\",1,2,3,4]\n",
        "list.extend(\"gurunath\")\n",
        "print(list)"
      ],
      "metadata": {
        "colab": {
          "base_uri": "https://localhost:8080/"
        },
        "id": "Ot-RHsfhnFs_",
        "outputId": "99f9a27a-846f-4802-c358-cd177a763b33"
      },
      "execution_count": null,
      "outputs": [
        {
          "output_type": "stream",
          "name": "stdout",
          "text": [
            "['aniket', 'madhurkar', 1, 2, 3, 4, 'g', 'u', 'r', 'u', 'n', 'a', 't', 'h']\n"
          ]
        }
      ]
    },
    {
      "cell_type": "code",
      "source": [
        "list=[\"aniket\",\"madhurkar\",1,2,3,4]\n",
        "list.insert(\"gurunath\")\n",
        "print(list)"
      ],
      "metadata": {
        "colab": {
          "base_uri": "https://localhost:8080/",
          "height": 176
        },
        "id": "yvQh6kIpn85k",
        "outputId": "f47464aa-ee4b-446d-d5c4-f9bbd391ec87"
      },
      "execution_count": null,
      "outputs": [
        {
          "output_type": "error",
          "ename": "TypeError",
          "evalue": "insert expected 2 arguments, got 1",
          "traceback": [
            "\u001b[0;31m---------------------------------------------------------------------------\u001b[0m",
            "\u001b[0;31mTypeError\u001b[0m                                 Traceback (most recent call last)",
            "\u001b[0;32m<ipython-input-8-46456f72e518>\u001b[0m in \u001b[0;36m<cell line: 2>\u001b[0;34m()\u001b[0m\n\u001b[1;32m      1\u001b[0m \u001b[0mlist\u001b[0m\u001b[0;34m=\u001b[0m\u001b[0;34m[\u001b[0m\u001b[0;34m\"aniket\"\u001b[0m\u001b[0;34m,\u001b[0m\u001b[0;34m\"madhurkar\"\u001b[0m\u001b[0;34m,\u001b[0m\u001b[0;36m1\u001b[0m\u001b[0;34m,\u001b[0m\u001b[0;36m2\u001b[0m\u001b[0;34m,\u001b[0m\u001b[0;36m3\u001b[0m\u001b[0;34m,\u001b[0m\u001b[0;36m4\u001b[0m\u001b[0;34m]\u001b[0m\u001b[0;34m\u001b[0m\u001b[0;34m\u001b[0m\u001b[0m\n\u001b[0;32m----> 2\u001b[0;31m \u001b[0mlist\u001b[0m\u001b[0;34m.\u001b[0m\u001b[0minsert\u001b[0m\u001b[0;34m(\u001b[0m\u001b[0;34m\"gurunath\"\u001b[0m\u001b[0;34m)\u001b[0m\u001b[0;34m\u001b[0m\u001b[0;34m\u001b[0m\u001b[0m\n\u001b[0m\u001b[1;32m      3\u001b[0m \u001b[0mprint\u001b[0m\u001b[0;34m(\u001b[0m\u001b[0mlist\u001b[0m\u001b[0;34m)\u001b[0m\u001b[0;34m\u001b[0m\u001b[0;34m\u001b[0m\u001b[0m\n",
            "\u001b[0;31mTypeError\u001b[0m: insert expected 2 arguments, got 1"
          ]
        }
      ]
    },
    {
      "cell_type": "code",
      "source": [
        "list=[\"aniket\", \"madhurkar\"]\n",
        "list.insert(1,\"abc\")\n",
        "print(list)"
      ],
      "metadata": {
        "colab": {
          "base_uri": "https://localhost:8080/"
        },
        "id": "rGVHq0Tpo8Hy",
        "outputId": "fbc1575f-6023-4ecf-8249-7631efe8142e"
      },
      "execution_count": null,
      "outputs": [
        {
          "output_type": "stream",
          "name": "stdout",
          "text": [
            "['aniket', 'abc', 'madhurkar']\n"
          ]
        }
      ]
    },
    {
      "cell_type": "code",
      "source": [
        "list=[\"abc\",\"xyz\",\"klm\",9,6,8,]\n",
        "list[0:4:3]"
      ],
      "metadata": {
        "colab": {
          "base_uri": "https://localhost:8080/"
        },
        "id": "KotLFnBerzZT",
        "outputId": "7fa8a039-4c51-4396-dcce-78c549e09c5a"
      },
      "execution_count": null,
      "outputs": [
        {
          "output_type": "execute_result",
          "data": {
            "text/plain": [
              "['abc', 9]"
            ]
          },
          "metadata": {},
          "execution_count": 6
        }
      ]
    },
    {
      "cell_type": "code",
      "source": [
        "list=[\"dog\", \"Apple\",\"mongo\",1,2,4.5,8,9]\n",
        "list.insert(1,\"aniket\")\n",
        "print(list)"
      ],
      "metadata": {
        "colab": {
          "base_uri": "https://localhost:8080/"
        },
        "id": "Lzpbma8ruIPU",
        "outputId": "451ac5d9-04fe-41de-f57d-a87fbf014e0f"
      },
      "execution_count": null,
      "outputs": [
        {
          "output_type": "stream",
          "name": "stdout",
          "text": [
            "['dog', 'aniket', 'Apple', 'mongo', 1, 2, 4.5, 8, 9]\n"
          ]
        }
      ]
    },
    {
      "cell_type": "code",
      "source": [
        "a=10\n",
        "b=20\n",
        "print(a+b)\n",
        "print(a-b)\n",
        "print(a*b)\n",
        "print(a/b)\n",
        "print(a%b)\n",
        "print(a**b)\n",
        "print(a//b)\n",
        "\n",
        "\n"
      ],
      "metadata": {
        "colab": {
          "base_uri": "https://localhost:8080/"
        },
        "id": "1u53IkjX1lkW",
        "outputId": "ae525ca2-f0be-4c03-fa72-ecf3706b91d0"
      },
      "execution_count": null,
      "outputs": [
        {
          "output_type": "stream",
          "name": "stdout",
          "text": [
            "30\n",
            "-10\n",
            "200\n",
            "0.5\n",
            "10\n",
            "100000000000000000000\n",
            "0\n"
          ]
        }
      ]
    },
    {
      "cell_type": "code",
      "source": [
        "num1=eval(input(\"enter first number\"))\n",
        "num2=eval(input(\"enter a scond number\"))\n",
        "print(\"sum=\",num1+num2)"
      ],
      "metadata": {
        "colab": {
          "base_uri": "https://localhost:8080/"
        },
        "id": "3U6ZXZW-NU2m",
        "outputId": "70119c0c-738d-4a6b-ac43-20f531b1d032"
      },
      "execution_count": 15,
      "outputs": [
        {
          "output_type": "stream",
          "name": "stdout",
          "text": [
            "enter first number10\n",
            "enter a scond number20\n",
            "sum= 30\n"
          ]
        }
      ]
    },
    {
      "cell_type": "code",
      "source": [
        "num1=eval(input(\"enter first number\"))\n",
        "num2=eval(input(\"enter a scond number\"))\n",
        "print(\"sum=\",num1+num2)"
      ],
      "metadata": {
        "colab": {
          "base_uri": "https://localhost:8080/"
        },
        "id": "09UQISn-OJ0n",
        "outputId": "61113baf-32d8-4892-a8fd-5d736e4913b9"
      },
      "execution_count": 16,
      "outputs": [
        {
          "output_type": "stream",
          "name": "stdout",
          "text": [
            "enter first number10.5\n",
            "enter a scond number20.5\n",
            "sum= 31.0\n"
          ]
        }
      ]
    },
    {
      "cell_type": "code",
      "source": [
        "num1=eval(input(\"enter first number\"))\n",
        "num2=eval(input(\"enter a scond number\"))\n",
        "print(\"sum=\",num1+num2)"
      ],
      "metadata": {
        "colab": {
          "base_uri": "https://localhost:8080/",
          "height": 228
        },
        "id": "iHcWLhgiOnaJ",
        "outputId": "b870d7de-005a-4345-e0bc-e1f4fdf7b7f7"
      },
      "execution_count": 17,
      "outputs": [
        {
          "name": "stdout",
          "output_type": "stream",
          "text": [
            "enter first numbertrue\n"
          ]
        },
        {
          "output_type": "error",
          "ename": "NameError",
          "evalue": "name 'true' is not defined",
          "traceback": [
            "\u001b[0;31m---------------------------------------------------------------------------\u001b[0m",
            "\u001b[0;31mNameError\u001b[0m                                 Traceback (most recent call last)",
            "\u001b[0;32m<ipython-input-17-0637f2dcf265>\u001b[0m in \u001b[0;36m<cell line: 1>\u001b[0;34m()\u001b[0m\n\u001b[0;32m----> 1\u001b[0;31m \u001b[0mnum1\u001b[0m\u001b[0;34m=\u001b[0m\u001b[0meval\u001b[0m\u001b[0;34m(\u001b[0m\u001b[0minput\u001b[0m\u001b[0;34m(\u001b[0m\u001b[0;34m\"enter first number\"\u001b[0m\u001b[0;34m)\u001b[0m\u001b[0;34m)\u001b[0m\u001b[0;34m\u001b[0m\u001b[0;34m\u001b[0m\u001b[0m\n\u001b[0m\u001b[1;32m      2\u001b[0m \u001b[0mnum2\u001b[0m\u001b[0;34m=\u001b[0m\u001b[0meval\u001b[0m\u001b[0;34m(\u001b[0m\u001b[0minput\u001b[0m\u001b[0;34m(\u001b[0m\u001b[0;34m\"enter a scond number\"\u001b[0m\u001b[0;34m)\u001b[0m\u001b[0;34m)\u001b[0m\u001b[0;34m\u001b[0m\u001b[0;34m\u001b[0m\u001b[0m\n\u001b[1;32m      3\u001b[0m \u001b[0mprint\u001b[0m\u001b[0;34m(\u001b[0m\u001b[0;34m\"sum=\"\u001b[0m\u001b[0;34m,\u001b[0m\u001b[0mnum1\u001b[0m\u001b[0;34m+\u001b[0m\u001b[0mnum2\u001b[0m\u001b[0;34m)\u001b[0m\u001b[0;34m\u001b[0m\u001b[0;34m\u001b[0m\u001b[0m\n",
            "\u001b[0;32m<string>\u001b[0m in \u001b[0;36m<module>\u001b[0;34m\u001b[0m\n",
            "\u001b[0;31mNameError\u001b[0m: name 'true' is not defined"
          ]
        }
      ]
    },
    {
      "cell_type": "code",
      "source": [
        "age=3\n",
        "if(age>18):\n",
        "  print(\"eligiable for vote\")"
      ],
      "metadata": {
        "id": "lKoIuSw9O45f"
      },
      "execution_count": 19,
      "outputs": []
    },
    {
      "cell_type": "code",
      "source": [
        "age=33\n",
        "if(age>18):\n",
        "  print(\"eligiable for vote\")\n",
        "else:\n",
        "  print(\"not eligiable for vote\")\n"
      ],
      "metadata": {
        "colab": {
          "base_uri": "https://localhost:8080/"
        },
        "id": "NnJwW38cQBj3",
        "outputId": "3cd3a121-5a63-4afc-ea50-a241363ffec4"
      },
      "execution_count": 20,
      "outputs": [
        {
          "output_type": "stream",
          "name": "stdout",
          "text": [
            "eligiable for vote\n"
          ]
        }
      ]
    },
    {
      "cell_type": "code",
      "source": [
        "age=int(input(\"enter age :\"))\n",
        "if(age>18):\n",
        "  print(\"eligiable for vote\")\n",
        "else:\n",
        "  print(\"not eligiable for vote\")"
      ],
      "metadata": {
        "colab": {
          "base_uri": "https://localhost:8080/"
        },
        "id": "lJqHmRotQRAS",
        "outputId": "f4c785e4-1c9f-4645-a9de-7d30ee72e74a"
      },
      "execution_count": 22,
      "outputs": [
        {
          "output_type": "stream",
          "name": "stdout",
          "text": [
            "enter age :19\n",
            "eligiable for vote\n"
          ]
        }
      ]
    },
    {
      "cell_type": "code",
      "source": [
        "a=22\n",
        "if a>6:\n",
        "  print(\"we started to work on conditional Statement\")"
      ],
      "metadata": {
        "colab": {
          "base_uri": "https://localhost:8080/"
        },
        "id": "Wtlrc9ExUQFo",
        "outputId": "457d0059-80da-47ac-8de7-a53549885aaa"
      },
      "execution_count": 23,
      "outputs": [
        {
          "output_type": "stream",
          "name": "stdout",
          "text": [
            "we started to work on conditional Statement\n"
          ]
        }
      ]
    },
    {
      "cell_type": "code",
      "source": [
        "a=6\n",
        "if a==6:\n",
        "  print(\"Conditon true\")"
      ],
      "metadata": {
        "colab": {
          "base_uri": "https://localhost:8080/"
        },
        "id": "rMB0Qxh5UoKO",
        "outputId": "6cb31015-8e74-4893-f117-27471593d84e"
      },
      "execution_count": 24,
      "outputs": [
        {
          "output_type": "stream",
          "name": "stdout",
          "text": [
            "Conditon true\n"
          ]
        }
      ]
    },
    {
      "cell_type": "code",
      "source": [
        "x=57\n",
        "if x==57:\n",
        "  print(\"the if condition is true\")\n",
        "else:\n",
        "  print('else condition got executed')"
      ],
      "metadata": {
        "colab": {
          "base_uri": "https://localhost:8080/"
        },
        "id": "s5UVu7nDU0Qj",
        "outputId": "35d568cb-0a7a-4f86-f510-678f6ca44bde"
      },
      "execution_count": 26,
      "outputs": [
        {
          "output_type": "stream",
          "name": "stdout",
          "text": [
            "the if condition is true\n"
          ]
        }
      ]
    },
    {
      "cell_type": "code",
      "source": [
        "x=23\n",
        "if x>0:\n",
        "  print(\"i am  in if block\")\n",
        "else:\n",
        "  print('i am in else block')"
      ],
      "metadata": {
        "colab": {
          "base_uri": "https://localhost:8080/"
        },
        "id": "4lZ1kIylVbx1",
        "outputId": "03007e1f-34a8-44ae-c09f-110ebf11957b"
      },
      "execution_count": 27,
      "outputs": [
        {
          "output_type": "stream",
          "name": "stdout",
          "text": [
            "i am  in if block\n"
          ]
        }
      ]
    },
    {
      "cell_type": "code",
      "source": [
        "if(5>14):\n",
        "  print(\"5 is big\")\n",
        "  print(\"i am in if block\")\n",
        "print(\"i am out of the block\")"
      ],
      "metadata": {
        "colab": {
          "base_uri": "https://localhost:8080/"
        },
        "id": "c5oOKJMgWJ68",
        "outputId": "83ffa05c-3339-440e-d2a1-ecfdcf87e36e"
      },
      "execution_count": 29,
      "outputs": [
        {
          "output_type": "stream",
          "name": "stdout",
          "text": [
            "i am out of the block\n"
          ]
        }
      ]
    },
    {
      "cell_type": "code",
      "source": [
        "x=0\n",
        "if x>0:\n",
        "  print(\"x is postive\")\n",
        "  print(\"i am inif \")"
      ],
      "metadata": {
        "id": "cXGN92I5WuUQ"
      },
      "execution_count": null,
      "outputs": []
    }
  ]
}